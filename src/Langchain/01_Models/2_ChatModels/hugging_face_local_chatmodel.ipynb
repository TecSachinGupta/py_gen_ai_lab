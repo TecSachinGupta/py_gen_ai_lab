{
 "cells": [
  {
   "cell_type": "code",
   "execution_count": 9,
   "id": "2624af76",
   "metadata": {},
   "outputs": [],
   "source": [
    "from langchain_huggingface import ChatHuggingFace, HuggingFacePipeline\n",
    "from dotenv import load_dotenv\n",
    "\n",
    "import os"
   ]
  },
  {
   "cell_type": "code",
   "execution_count": 10,
   "id": "cb75ed18",
   "metadata": {},
   "outputs": [
    {
     "data": {
      "text/plain": [
       "True"
      ]
     },
     "execution_count": 10,
     "metadata": {},
     "output_type": "execute_result"
    }
   ],
   "source": [
    "load_dotenv()"
   ]
  },
  {
   "cell_type": "code",
   "execution_count": 11,
   "id": "65238969",
   "metadata": {},
   "outputs": [],
   "source": [
    "HUGGINGFACEHUB_API_TOKEN = os.getenv(\"HUGGINGFACEHUB_API_TOKEN\")\n",
    "\n",
    "if not HUGGINGFACEHUB_API_TOKEN:\n",
    "    from getpass import getpass\n",
    "    HUGGINGFACEHUB_API_TOKEN = getpass(\"Enter Hugging Face Token: \")\n",
    "\n",
    "os.environ[\"HUGGINGFACEHUB_API_TOKEN\"] = HUGGINGFACEHUB_API_TOKEN"
   ]
  },
  {
   "cell_type": "code",
   "execution_count": 12,
   "id": "18749195",
   "metadata": {},
   "outputs": [
    {
     "name": "stderr",
     "output_type": "stream",
     "text": [
      "Device set to use cpu\n"
     ]
    }
   ],
   "source": [
    "llm = HuggingFacePipeline.from_model_id(\n",
    "    model_id='TinyLlama/TinyLlama-1.1B-Chat-v1.0',\n",
    "    task='text-generation',\n",
    "    pipeline_kwargs=dict(\n",
    "        temperature=0.5,\n",
    "        max_new_tokens=1000\n",
    "    )\n",
    ")\n",
    "\n",
    "model = ChatHuggingFace(llm=llm)"
   ]
  },
  {
   "cell_type": "code",
   "execution_count": 13,
   "id": "2c4e45af",
   "metadata": {},
   "outputs": [],
   "source": [
    "result = model.invoke(\"What is the capital of India\")"
   ]
  },
  {
   "cell_type": "code",
   "execution_count": 14,
   "id": "71bccd78",
   "metadata": {},
   "outputs": [
    {
     "name": "stdout",
     "output_type": "stream",
     "text": [
      "<|user|>\n",
      "What is the capital of India</s>\n",
      "<|assistant|>\n",
      "India's capital city is New Delhi.\n",
      "\n",
      "The capital of India is New Delhi, which is also the country's political and administrative center. The city is home to the President of India, the Vice-President, the Prime Minister of India, and several other government officials. New Delhi is also the site of the parliament, the Supreme Court, and several other important government buildings and institutions.\n",
      "\n",
      "New Delhi is a historic city that has played a significant role in India's history and culture. It was the capital of British India for over 150 years, and the city is now home to many of India's most important cultural and historical sites. The city is also home to several international airports and railway stations, making it an important transportation hub for the country.\n"
     ]
    }
   ],
   "source": [
    "print(result.content)"
   ]
  }
 ],
 "metadata": {
  "kernelspec": {
   "display_name": ".venv_genai (3.13.5)",
   "language": "python",
   "name": "python3"
  },
  "language_info": {
   "codemirror_mode": {
    "name": "ipython",
    "version": 3
   },
   "file_extension": ".py",
   "mimetype": "text/x-python",
   "name": "python",
   "nbconvert_exporter": "python",
   "pygments_lexer": "ipython3",
   "version": "3.13.5"
  }
 },
 "nbformat": 4,
 "nbformat_minor": 5
}

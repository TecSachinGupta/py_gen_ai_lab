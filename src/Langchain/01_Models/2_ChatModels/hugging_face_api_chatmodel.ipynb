{
 "cells": [
  {
   "cell_type": "code",
   "execution_count": 1,
   "id": "2624af76",
   "metadata": {},
   "outputs": [],
   "source": [
    "from langchain_huggingface import ChatHuggingFace, HuggingFaceEndpoint\n",
    "from dotenv import load_dotenv\n",
    "from getpass import getpass\n",
    "\n",
    "import os"
   ]
  },
  {
   "cell_type": "code",
   "execution_count": 2,
   "id": "7b0b816f",
   "metadata": {},
   "outputs": [
    {
     "data": {
      "text/plain": [
       "True"
      ]
     },
     "execution_count": 2,
     "metadata": {},
     "output_type": "execute_result"
    }
   ],
   "source": [
    "load_dotenv()"
   ]
  },
  {
   "cell_type": "code",
   "execution_count": 3,
   "id": "be6b0d2b",
   "metadata": {},
   "outputs": [],
   "source": [
    "HUGGINGFACEHUB_API_TOKEN = os.getenv(\"HUGGINGFACEHUB_API_TOKEN\")\n",
    "\n",
    "if not HUGGINGFACEHUB_API_TOKEN:\n",
    "    from getpass import getpass\n",
    "    HUGGINGFACEHUB_API_TOKEN = getpass(\"Enter Hugging Face Token: \")\n",
    "\n",
    "os.environ[\"HUGGINGFACEHUB_API_TOKEN\"] = HUGGINGFACEHUB_API_TOKEN"
   ]
  },
  {
   "cell_type": "code",
   "execution_count": 4,
   "id": "18749195",
   "metadata": {},
   "outputs": [],
   "source": [
    "llm = HuggingFaceEndpoint(\n",
    "    repo_id=\"HuggingFaceTB/SmolLM3-3B\",\n",
    "    huggingfacehub_api_token=HUGGINGFACEHUB_API_TOKEN,\n",
    "    task=\"text-generation\",\n",
    "    provider=\"auto\", \n",
    ")\n",
    "\n",
    "model = ChatHuggingFace(llm=llm)"
   ]
  },
  {
   "cell_type": "code",
   "execution_count": 5,
   "id": "2c4e45af",
   "metadata": {},
   "outputs": [],
   "source": [
    "result = model.invoke(\"What is the capital of India\")"
   ]
  },
  {
   "cell_type": "code",
   "execution_count": 6,
   "id": "9b8caeed",
   "metadata": {},
   "outputs": [
    {
     "data": {
      "text/plain": [
       "AIMessage(content=\"<think>\\nOkay, the user is asking for the capital of India. I need to make sure I provide the correct answer. From what I remember, the capital is New Delhi. But wait, I should double-check to be certain. Sometimes people might confuse it with another city, like Mumbai or Bangalore, but those are the financial or cultural hubs, not the capital. Let me think if there's any recent change. I don't recall any changes to the capital city. New Delhi has been the capital since independence in 1947. It's the seat of the Indian government, including the Parliament and the President's Office. Yeah, that's right. So the answer should be New Delhi. I'll just confirm once more in my mind to avoid any mistakes. Yep, New Delhi is the capital of India.\\n</think>\\n\\nThe capital of India is **New Delhi**. It is the seat of the Indian government, home to key institutions such as the Parliament, the President's Office, and the Supreme Court. New Delhi serves as the administrative and political center of the country.\", additional_kwargs={}, response_metadata={'token_usage': {'completion_tokens': 218, 'prompt_tokens': 254, 'total_tokens': 472}, 'model_name': 'HuggingFaceTB/SmolLM3-3B', 'system_fingerprint': None, 'finish_reason': 'stop', 'logprobs': None}, id='run--4368b483-8bcc-4c5c-b47d-d3b543de7ae4-0', usage_metadata={'input_tokens': 254, 'output_tokens': 218, 'total_tokens': 472})"
      ]
     },
     "execution_count": 6,
     "metadata": {},
     "output_type": "execute_result"
    }
   ],
   "source": [
    "result"
   ]
  },
  {
   "cell_type": "code",
   "execution_count": 7,
   "id": "af8a16d7",
   "metadata": {},
   "outputs": [
    {
     "name": "stdout",
     "output_type": "stream",
     "text": [
      "<think>\n",
      "Okay, the user is asking for the capital of India. I need to make sure I provide the correct answer. From what I remember, the capital is New Delhi. But wait, I should double-check to be certain. Sometimes people might confuse it with another city, like Mumbai or Bangalore, but those are the financial or cultural hubs, not the capital. Let me think if there's any recent change. I don't recall any changes to the capital city. New Delhi has been the capital since independence in 1947. It's the seat of the Indian government, including the Parliament and the President's Office. Yeah, that's right. So the answer should be New Delhi. I'll just confirm once more in my mind to avoid any mistakes. Yep, New Delhi is the capital of India.\n",
      "</think>\n",
      "\n",
      "The capital of India is **New Delhi**. It is the seat of the Indian government, home to key institutions such as the Parliament, the President's Office, and the Supreme Court. New Delhi serves as the administrative and political center of the country.\n"
     ]
    }
   ],
   "source": [
    "print(result.content)"
   ]
  }
 ],
 "metadata": {
  "kernelspec": {
   "display_name": ".venv_genai (3.13.5)",
   "language": "python",
   "name": "python3"
  },
  "language_info": {
   "codemirror_mode": {
    "name": "ipython",
    "version": 3
   },
   "file_extension": ".py",
   "mimetype": "text/x-python",
   "name": "python",
   "nbconvert_exporter": "python",
   "pygments_lexer": "ipython3",
   "version": "3.13.5"
  }
 },
 "nbformat": 4,
 "nbformat_minor": 5
}
